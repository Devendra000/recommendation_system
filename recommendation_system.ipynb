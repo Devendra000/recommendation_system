{
  "cells": [
    {
      "cell_type": "code",
      "execution_count": 84,
      "metadata": {
        "trusted": true
      },
      "outputs": [],
      "source": [
        "import pandas as pd"
      ]
    },
    {
      "cell_type": "code",
      "execution_count": 85,
      "metadata": {
        "trusted": true
      },
      "outputs": [],
      "source": [
        "import numpy as np"
      ]
    },
    {
      "cell_type": "code",
      "execution_count": 86,
      "metadata": {
        "trusted": true
      },
      "outputs": [],
      "source": [
        "from sklearn.feature_extraction.text import TfidfVectorizer"
      ]
    },
    {
      "cell_type": "code",
      "execution_count": 87,
      "metadata": {
        "trusted": true
      },
      "outputs": [],
      "source": [
        "from sklearn.metrics.pairwise import linear_kernel"
      ]
    },
    {
      "cell_type": "code",
      "execution_count": 88,
      "metadata": {
        "trusted": true
      },
      "outputs": [],
      "source": [
        "products = pd.read_csv('products.csv')"
      ]
    },
    {
      "cell_type": "code",
      "execution_count": 89,
      "metadata": {
        "trusted": true
      },
      "outputs": [
        {
          "data": {
            "text/html": [
              "<div>\n",
              "<style scoped>\n",
              "    .dataframe tbody tr th:only-of-type {\n",
              "        vertical-align: middle;\n",
              "    }\n",
              "\n",
              "    .dataframe tbody tr th {\n",
              "        vertical-align: top;\n",
              "    }\n",
              "\n",
              "    .dataframe thead th {\n",
              "        text-align: right;\n",
              "    }\n",
              "</style>\n",
              "<table border=\"1\" class=\"dataframe\">\n",
              "  <thead>\n",
              "    <tr style=\"text-align: right;\">\n",
              "      <th></th>\n",
              "      <th>id</th>\n",
              "      <th>name</th>\n",
              "      <th>category</th>\n",
              "      <th>price</th>\n",
              "      <th>level_of_study</th>\n",
              "    </tr>\n",
              "  </thead>\n",
              "  <tbody>\n",
              "    <tr>\n",
              "      <th>0</th>\n",
              "      <td>1</td>\n",
              "      <td>Physics Textbook</td>\n",
              "      <td>Books</td>\n",
              "      <td>29.99</td>\n",
              "      <td>Undergraduate</td>\n",
              "    </tr>\n",
              "    <tr>\n",
              "      <th>1</th>\n",
              "      <td>2</td>\n",
              "      <td>Advanced Mathematics</td>\n",
              "      <td>Books</td>\n",
              "      <td>39.99</td>\n",
              "      <td>Graduate</td>\n",
              "    </tr>\n",
              "    <tr>\n",
              "      <th>2</th>\n",
              "      <td>3</td>\n",
              "      <td>Intro to Programming</td>\n",
              "      <td>Books</td>\n",
              "      <td>19.99</td>\n",
              "      <td>Beginner</td>\n",
              "    </tr>\n",
              "    <tr>\n",
              "      <th>3</th>\n",
              "      <td>4</td>\n",
              "      <td>Biology Lab Kit</td>\n",
              "      <td>Lab Equipment</td>\n",
              "      <td>59.99</td>\n",
              "      <td>Undergraduate</td>\n",
              "    </tr>\n",
              "    <tr>\n",
              "      <th>4</th>\n",
              "      <td>5</td>\n",
              "      <td>Chemistry Set</td>\n",
              "      <td>Lab Equipment</td>\n",
              "      <td>49.99</td>\n",
              "      <td>High School</td>\n",
              "    </tr>\n",
              "  </tbody>\n",
              "</table>\n",
              "</div>"
            ],
            "text/plain": [
              "   id                  name       category  price level_of_study\n",
              "0   1      Physics Textbook          Books  29.99  Undergraduate\n",
              "1   2  Advanced Mathematics          Books  39.99       Graduate\n",
              "2   3  Intro to Programming          Books  19.99       Beginner\n",
              "3   4       Biology Lab Kit  Lab Equipment  59.99  Undergraduate\n",
              "4   5         Chemistry Set  Lab Equipment  49.99    High School"
            ]
          },
          "execution_count": 89,
          "metadata": {},
          "output_type": "execute_result"
        }
      ],
      "source": [
        "products.head()"
      ]
    },
    {
      "cell_type": "code",
      "execution_count": 90,
      "metadata": {
        "trusted": true
      },
      "outputs": [],
      "source": [
        "tfidf = TfidfVectorizer(stop_words = 'english')\n",
        "tfidf_matrix = tfidf.fit_transform(products['category'])\n",
        "cosine_sum = linear_kernel(tfidf_matrix, tfidf_matrix)"
      ]
    },
    {
      "cell_type": "code",
      "execution_count": 91,
      "metadata": {
        "trusted": true
      },
      "outputs": [],
      "source": [
        "indices = pd.Series(products.id.values, index=products['name'].drop_duplicates())\n",
        "cat = pd.Series(products['category'].values, index=products['name'].drop_duplicates())\n",
        "name = pd.Series(products['name'].values, index=products.index)\n",
        "level = pd.Series(products['level_of_study'].values, index=products.index)"
      ]
    },
    {
      "cell_type": "code",
      "execution_count": 92,
      "metadata": {
        "trusted": true
      },
      "outputs": [
        {
          "data": {
            "text/plain": [
              "9"
            ]
          },
          "execution_count": 92,
          "metadata": {},
          "output_type": "execute_result"
        }
      ],
      "source": [
        "indices['Laptop']"
      ]
    },
    {
      "cell_type": "code",
      "execution_count": 93,
      "metadata": {
        "trusted": true
      },
      "outputs": [
        {
          "data": {
            "text/plain": [
              "'Electronics'"
            ]
          },
          "execution_count": 93,
          "metadata": {},
          "output_type": "execute_result"
        }
      ],
      "source": [
        "cat['Laptop']"
      ]
    },
    {
      "cell_type": "code",
      "execution_count": 94,
      "metadata": {
        "trusted": true
      },
      "outputs": [],
      "source": [
        "def sameCategoryProducts(name, cosine_sum = cosine_sum):\n",
        "    index = indices[name]\n",
        "    sim_score = sorted(enumerate(cosine_sum[index]), key=lambda x:x[1], reverse=True)[0:20]\n",
        "    sim_index = [i[0] for i in sim_score]\n",
        "    sim_index_filtered = [i for i in sim_index if i != index]\n",
        "    return sim_score"
      ]
    },
    {
      "cell_type": "code",
      "execution_count": 95,
      "metadata": {
        "trusted": true
      },
      "outputs": [],
      "source": [
        "tfid = TfidfVectorizer(stop_words = 'english')\n",
        "tfid_matrix = tfidf.fit_transform(products['level_of_study'])\n",
        "cosine_sumf = linear_kernel(tfid_matrix, tfid_matrix)"
      ]
    },
    {
      "cell_type": "code",
      "execution_count": 96,
      "metadata": {
        "trusted": true
      },
      "outputs": [],
      "source": [
        "def sameLevelProducts(idx,cosine_sumf = cosine_sumf):\n",
        "    index = indices[idx]\n",
        "    simL_score = sorted(enumerate(cosine_sumf[index]), key=lambda x:x[1], reverse=True)[0:20]\n",
        "    simL_index = [i[0] for i in simL_score]\n",
        "    simL_index_filtered = [i for i in simL_index if i != index]\n",
        "    return simL_score"
      ]
    },
    {
      "cell_type": "code",
      "execution_count": 97,
      "metadata": {
        "trusted": true
      },
      "outputs": [],
      "source": [
        "# Create separate lists for prioritizing elements with the second element equal to 1.0\n",
        "def getRecommendation(product):\n",
        "    array1 = sameLevelProducts(product)\n",
        "    array2 = sameCategoryProducts(product)\n",
        "    \n",
        "    set1 = set(array1)\n",
        "    set2 = set(array2)\n",
        "    \n",
        "    # Identify common elements with second element value 1.0\n",
        "    common_elements = {item for item in set1 & set2 if item[1] == 1.0}\n",
        "    \n",
        "    # Separate lists\n",
        "    priority_common = []\n",
        "    priority_elements = []\n",
        "    other_elements = []\n",
        "    seen = set()\n",
        "    \n",
        "    # Function to add unique elements to respective lists\n",
        "    def add_unique_elements(array):\n",
        "        for item in array:\n",
        "            if item[0] not in seen:\n",
        "                if item in common_elements:\n",
        "                    priority_common.append(item)\n",
        "                elif item[1] == 1.0:\n",
        "                    priority_elements.append(item)\n",
        "                else:\n",
        "                    other_elements.append(item)\n",
        "                seen.add(item[0])\n",
        "    \n",
        "    # Add elements from both arrays\n",
        "    add_unique_elements(array1)\n",
        "    add_unique_elements(array2)\n",
        "    \n",
        "    # Combine the lists: common elements first, then other prioritized elements, then the rest\n",
        "    combined_array = priority_common + priority_elements + other_elements\n",
        "    \n",
        "    # Extract only the first elements\n",
        "    first_elements = [item[0] for item in combined_array]\n",
        "    \n",
        "    return first_elements\n",
        "    array = [i[0] for i in combined_array]\n",
        "    return array"
      ]
    },
    {
      "cell_type": "code",
      "execution_count": 103,
      "metadata": {
        "trusted": true
      },
      "outputs": [
        {
          "name": "stdout",
          "output_type": "stream",
          "text": [
            "33 [9, 18, 28, 37, 46, 47, 5, 8, 17, 19, 26, 27, 29, 35, 38, 44, 48, 53, 54, 55, 56, 63, 69, 76, 84, 92, 99, 0, 1, 2, 3, 4, 6]\n"
          ]
        }
      ],
      "source": [
        "recommendation = getRecommendation('Laptop')\n",
        "print(len(recommendation), recommendation)"
      ]
    },
    {
      "cell_type": "code",
      "execution_count": null,
      "metadata": {
        "trusted": true
      },
      "outputs": [],
      "source": []
    },
    {
      "cell_type": "code",
      "execution_count": null,
      "metadata": {
        "trusted": true
      },
      "outputs": [],
      "source": []
    },
    {
      "cell_type": "code",
      "execution_count": null,
      "metadata": {
        "trusted": true
      },
      "outputs": [],
      "source": []
    },
    {
      "cell_type": "code",
      "execution_count": null,
      "metadata": {
        "trusted": true
      },
      "outputs": [],
      "source": []
    },
    {
      "cell_type": "code",
      "execution_count": null,
      "metadata": {
        "trusted": true
      },
      "outputs": [],
      "source": []
    }
  ],
  "metadata": {
    "kernelspec": {
      "display_name": "Python (Pyodide)",
      "language": "python",
      "name": "python"
    },
    "language_info": {
      "codemirror_mode": {
        "name": "python",
        "version": 3
      },
      "file_extension": ".py",
      "mimetype": "text/x-python",
      "name": "python",
      "nbconvert_exporter": "python",
      "pygments_lexer": "ipython3",
      "version": "3.8"
    }
  },
  "nbformat": 4,
  "nbformat_minor": 4
}
